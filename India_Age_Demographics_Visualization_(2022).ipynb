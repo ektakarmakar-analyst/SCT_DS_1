{
  "nbformat": 4,
  "nbformat_minor": 0,
  "metadata": {
    "colab": {
      "provenance": [],
      "mount_file_id": "1ovtN9SIexFJVpC74c1uCRnswm2Ih6enB",
      "authorship_tag": "ABX9TyPaZyI8xEqav7IDKP7KlGkr",
      "include_colab_link": true
    },
    "kernelspec": {
      "name": "python3",
      "display_name": "Python 3"
    },
    "language_info": {
      "name": "python"
    }
  },
  "cells": [
    {
      "cell_type": "markdown",
      "metadata": {
        "id": "view-in-github",
        "colab_type": "text"
      },
      "source": [
        "<a href=\"https://colab.research.google.com/github/ektakarmakar-analyst/SCT_DS_1/blob/main/India_Age_Demographics_Visualization_(2022).ipynb\" target=\"_parent\"><img src=\"https://colab.research.google.com/assets/colab-badge.svg\" alt=\"Open In Colab\"/></a>"
      ]
    },
    {
      "cell_type": "code",
      "execution_count": null,
      "metadata": {
        "id": "Jg8k19oiuZOH"
      },
      "outputs": [],
      "source": [
        "import pandas as pd\n",
        "import matplotlib.pyplot as plt\n",
        "import seaborn as sns"
      ]
    },
    {
      "cell_type": "code",
      "source": [
        "metadata_country =pd.read_csv('/content/drive/MyDrive/Metadata_Country_API_SP.POP.TOTL_DS2_en_csv_v2_81108.csv')\n",
        "metadata_indicator=pd.read_csv('/content/drive/MyDrive/Metadata_Indicator_API_SP.POP.TOTL_DS2_en_csv_v2_81108.csv')"
      ],
      "metadata": {
        "id": "m0HRMQMyuhYm"
      },
      "execution_count": null,
      "outputs": []
    },
    {
      "cell_type": "code",
      "source": [
        "population_data = pd.read_csv('/content/drive/MyDrive/API_SP.POP.TOTL_DS2_en_csv_v2_81108.csv', skiprows=4)"
      ],
      "metadata": {
        "id": "aX7FMbjwuhbB"
      },
      "execution_count": null,
      "outputs": []
    },
    {
      "cell_type": "code",
      "source": [
        "print(population_data.head())\n",
        "print(metadata_country.head())\n",
        "print(metadata_indicator.head())"
      ],
      "metadata": {
        "colab": {
          "base_uri": "https://localhost:8080/"
        },
        "id": "afN-hXtT3gRR",
        "outputId": "58094788-4e80-49d1-ff7a-3bc9c0ac01f8"
      },
      "execution_count": null,
      "outputs": [
        {
          "output_type": "stream",
          "name": "stdout",
          "text": [
            "                  Country Name Country Code     Indicator Name Indicator Code  \\\n",
            "0                        Aruba          ABW  Population, total    SP.POP.TOTL   \n",
            "1  Africa Eastern and Southern          AFE  Population, total    SP.POP.TOTL   \n",
            "2                  Afghanistan          AFG  Population, total    SP.POP.TOTL   \n",
            "3   Africa Western and Central          AFW  Population, total    SP.POP.TOTL   \n",
            "4                       Angola          AGO  Population, total    SP.POP.TOTL   \n",
            "\n",
            "          1960         1961         1962         1963         1964  \\\n",
            "0      54922.0      55578.0      56320.0      57002.0      57619.0   \n",
            "1  130072080.0  133534923.0  137171659.0  140945536.0  144904094.0   \n",
            "2    9035043.0    9214083.0    9404406.0    9604487.0    9814318.0   \n",
            "3   97630925.0   99706674.0  101854756.0  104089175.0  106388440.0   \n",
            "4    5231654.0    5301583.0    5354310.0    5408320.0    5464187.0   \n",
            "\n",
            "          1965  ...         2016         2017         2018         2019  \\\n",
            "0      58190.0  ...     108727.0     108735.0     108908.0     109203.0   \n",
            "1  149033472.0  ...  623369401.0  640058741.0  657801085.0  675950189.0   \n",
            "2   10036008.0  ...   34700612.0   35688935.0   36743039.0   37856121.0   \n",
            "3  108772632.0  ...  429454743.0  440882906.0  452195915.0  463365429.0   \n",
            "4    5521981.0  ...   29183070.0   30234839.0   31297155.0   32375632.0   \n",
            "\n",
            "          2020         2021         2022         2023  2024  Unnamed: 69  \n",
            "0     108587.0     107700.0     107310.0     107359.0   NaN          NaN  \n",
            "1  694446100.0  713090928.0  731821393.0  750503764.0   NaN          NaN  \n",
            "2   39068979.0   40000412.0   40578842.0   41454761.0   NaN          NaN  \n",
            "3  474569351.0  485920997.0  497387180.0  509398589.0   NaN          NaN  \n",
            "4   33451132.0   34532429.0   35635029.0   36749906.0   NaN          NaN  \n",
            "\n",
            "[5 rows x 70 columns]\n",
            "  Country Code                     Region          IncomeGroup  \\\n",
            "0          ABW  Latin America & Caribbean          High income   \n",
            "1          AFE                        NaN                  NaN   \n",
            "2          AFG                 South Asia           Low income   \n",
            "3          AFW                        NaN                  NaN   \n",
            "4          AGO         Sub-Saharan Africa  Lower middle income   \n",
            "\n",
            "                                        SpecialNotes  \\\n",
            "0                                                NaN   \n",
            "1  26 countries, stretching from the Red Sea in t...   \n",
            "2  The reporting period for national accounts dat...   \n",
            "3  22 countries, stretching from the westernmost ...   \n",
            "4  The World Bank systematically assesses the app...   \n",
            "\n",
            "                     TableName  Unnamed: 5  \n",
            "0                        Aruba         NaN  \n",
            "1  Africa Eastern and Southern         NaN  \n",
            "2                  Afghanistan         NaN  \n",
            "3   Africa Western and Central         NaN  \n",
            "4                       Angola         NaN  \n",
            "  INDICATOR_CODE     INDICATOR_NAME  \\\n",
            "0    SP.POP.TOTL  Population, total   \n",
            "\n",
            "                                         SOURCE_NOTE  \\\n",
            "0  Total population is based on the de facto defi...   \n",
            "\n",
            "                                 SOURCE_ORGANIZATION  Unnamed: 4  \n",
            "0  (1) United Nations Population Division. World ...         NaN  \n"
          ]
        }
      ]
    },
    {
      "cell_type": "code",
      "source": [
        "india_population_data = population_data[population_data['Country Code'] == 'IND']"
      ],
      "metadata": {
        "id": "9fsWCd0S3gUL"
      },
      "execution_count": null,
      "outputs": []
    },
    {
      "cell_type": "code",
      "source": [
        "population_2022 = india_population_data[['Country Name', '2022']]"
      ],
      "metadata": {
        "id": "hGhRN_o-3gXg"
      },
      "execution_count": null,
      "outputs": []
    },
    {
      "cell_type": "code",
      "source": [
        "print(f\"population of india in 2022: {population_2022.iloc[0]['2022']}\")"
      ],
      "metadata": {
        "colab": {
          "base_uri": "https://localhost:8080/"
        },
        "id": "hP7t6EBM3gf3",
        "outputId": "a40299d9-5b94-44b0-d8a7-39a71113eac2"
      },
      "execution_count": null,
      "outputs": [
        {
          "output_type": "stream",
          "name": "stdout",
          "text": [
            "population of india in 2022: 1425423212.0\n"
          ]
        }
      ]
    },
    {
      "cell_type": "code",
      "source": [
        "data = { ' Age group': ['0-20','21-64','65+'],'population (Millions)' : [512,807,98]}"
      ],
      "metadata": {
        "id": "xHESxfAH3giy"
      },
      "execution_count": null,
      "outputs": []
    },
    {
      "cell_type": "code",
      "source": [
        "df=pd.DataFrame(data)"
      ],
      "metadata": {
        "id": "4uWhfJXL3gla"
      },
      "execution_count": null,
      "outputs": []
    },
    {
      "cell_type": "code",
      "source": [
        "plt.figure(figsize=(10,6))\n",
        "plt.title(\"India's Population by Age in 2022\")\n",
        "plt.bar(df[' Age group'],df['population (Millions)'], color= ['yellow','red','blue'])\n",
        "plt.xlabel('Age group')\n",
        "plt.ylabel('population (Millions)')\n",
        "plt.show()"
      ],
      "metadata": {
        "colab": {
          "base_uri": "https://localhost:8080/",
          "height": 518
        },
        "id": "9J81BEy43gn_",
        "outputId": "6da38581-a06d-4dc7-daa0-75c6287e538e"
      },
      "execution_count": null,
      "outputs": [
        {
          "output_type": "display_data",
          "data": {
            "text/plain": [
              "<Figure size 1000x600 with 1 Axes>"
            ],
            "image/png": "[encoded data removed]"
          },
          "metadata": {}
        }
      ]
    },
    {
      "cell_type": "code",
      "source": [],
      "metadata": {
        "id": "FNWgnoBM3grN"
      },
      "execution_count": null,
      "outputs": []
    }
  ]
}